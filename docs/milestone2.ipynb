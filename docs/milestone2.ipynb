{
 "cells": [
  {
   "cell_type": "markdown",
   "metadata": {},
   "source": [
    "# Milestone 1\n",
    "## Introduction\n",
    "< insert introduction text here >\n",
    "\n",
    "## Background\n",
    "< insert background text here > \n",
    "\n",
    "## How to Use AutoDiff_32\n",
    "### Installation\n",
    "To install AutoDiff_32, the user should run:\n",
    "   `pip install autodiff_32`\n",
    "Or, the use directly clone the package to their local machine:\n",
    "    `git clone https://github.com/ELAA207/cs207-FinalProject.git`\n",
    "    `python setup.py`\n",
    "### How to use\n",
    "< insert example of how to use >\n",
    "\n",
    "## Software Organization\n",
    "### Directory Structure\n",
    "Our structure is as follows:\n",
    "    `/cs207-FinalProject`\n",
    "        `README.md`\n",
    "        `LICENSE`\n",
    "        `.gitignore`\n",
    "        `.travis.yml`\n",
    "        `setup.py`\n",
    "        `docs/`\n",
    "            `milestone1.ipynb`\n",
    "            `milestone2.ipynb`\n",
    "        `autodif_32/`\n",
    "            < TBD >\n",
    "        `test/`\n",
    "            < TBD >\n",
    "\n",
    "< Insert description of each file and purpose >\n",
    "\n",
    "## Implementation\n",
    "< Insert information about implementation >"
   ]
  },
  {
   "cell_type": "code",
   "execution_count": null,
   "metadata": {},
   "outputs": [],
   "source": []
  }
 ],
 "metadata": {
  "kernelspec": {
   "display_name": "Python 3",
   "language": "python",
   "name": "python3"
  },
  "language_info": {
   "codemirror_mode": {
    "name": "ipython",
    "version": 3
   },
   "file_extension": ".py",
   "mimetype": "text/x-python",
   "name": "python",
   "nbconvert_exporter": "python",
   "pygments_lexer": "ipython3",
   "version": "3.7.3"
  }
 },
 "nbformat": 4,
 "nbformat_minor": 2
}
