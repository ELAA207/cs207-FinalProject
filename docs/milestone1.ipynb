{
 "cells": [
  {
   "cell_type": "markdown",
   "metadata": {
    "colab_type": "text",
    "id": "UJfA4iDjBurv"
   },
   "source": [
    "## **Introduction**\n",
    "\n",
    "**Q: Describe the problem the software solves and why it's important to solve that problem.**\n",
    "\n",
    "The derivative is an extremely important mathematical tool with a wide range of applications. Naturally, we would like to compute it as accurately and efficiently as possible.\n",
    "Two classical methods of calculating the derivative have clear shortcomings. Symbolic differentiation will be accurate, but can be quite expensive computationally. The finite difference method does not have this issue, but will be less precise as different values of epsilon will give different results. This brings us to automatic differentiation, a less costly and more precise approach."
   ]
  },
  {
   "cell_type": "markdown",
   "metadata": {
    "colab_type": "text",
    "id": "YlJh5iqMCGb-"
   },
   "source": [
    "\n",
    "## **Background**\n",
    "\n",
    "**Q: Describe (briefly) the mathematical background and concepts.**\n",
    "\n",
    "Automatic differentiation breaks down the main function into elementary functions, evaluated upon one another. It then uses the chain rule to update the derivative at each step and ends in the derivative of the entire function.\n",
    "\n"
   ]
  },
  {
   "cell_type": "markdown",
   "metadata": {
    "colab_type": "text",
    "id": "3o9XoeEdCLLd"
   },
   "source": [
    "## **How to use _PackageName_**\n",
    "\n",
    "**Q: How do you envision that a user will interact with your package? What should they import? How can they instantiate AD objects?**\n",
    "\n",
    "_PackageName_’s FwdMode module contains the AutoDiff function, which takes in the function the user wishes to differentiate, and returns a function that computes the derivative.\n",
    "\n",
    "```Python\n",
    "# Import:\n",
    "from _PackageName_.FwdMode import AutoDiff\n",
    "\n",
    "# Instantiate AD object: \n",
    "X = AutoDiff(3)\n",
    "func = 3*X + 2\n",
    "\n",
    "# Print results:\n",
    "print(\"Derivative of 3x+2 where x = 3 is\", func.der)\n",
    "# Derivative of 3x+2 where x = 3 is 3\n",
    "```"
   ]
  },
  {
   "cell_type": "markdown",
   "metadata": {
    "colab_type": "text",
    "id": "30zULmkhCOR4"
   },
   "source": [
    "\n",
    "## **Software Organization**\n",
    "\n",
    "**Q: What will the directory structure look like?**\n",
    "\n",
    "The directory structure for fwdAD will be as follows:\n",
    " \n",
    "        cs207-FinalProject/\n",
    "           _PackageName_/\n",
    "              _PackageName_/ \n",
    "\t\t\t\t       __init__.py\n",
    "         \t\t      MainFeature/\n",
    "                            __init__.py\n",
    "                            MainFeature.py\n",
    "                \t        README.md\n",
    "         \t\t      AdvancedFeature/\n",
    "                \t         __init__.py\n",
    "                \t         AdvancedFeature.py\n",
    "                \t         README.md\n",
    "   \t   \ttests/\n",
    "                 test.py\n",
    "              docs/ \n",
    "                 milestone1\n",
    "              setup.py\n",
    "              README.md\n",
    "              .travis.yml\n",
    "              LICENSE\n",
    " \n"
   ]
  },
  {
   "cell_type": "markdown",
   "metadata": {
    "colab_type": "text",
    "id": "E29jga1qCRyU"
   },
   "source": [
    "**Q: What modules do you plan on including? What is their basic functionality?**\n",
    "\n",
    "_PackageName_ will include a FwdMode module, which contains the functionality for foward mode automatic differentiation, and can handle univariate and multivariate differentiation, and scalar, vector, or matrix inputs. \n",
    " \n",
    "_PackageName_ will also include and AdvancedFeature module, which contains the functionality for calculating advanced derivatives (such as the Hessian/Backward propagation)."
   ]
  },
  {
   "cell_type": "markdown",
   "metadata": {
    "colab_type": "text",
    "id": "m-5qCN4stCFR"
   },
   "source": [
    "**Q: Where will your test suite live? Will you use TravisCI? CodeCov?**\n",
    "\n",
    "The _PackageName_ test suite will live in cs207-FinalProject/_PackageName_/ _PackageName_/tests/. \n",
    "\n",
    "_PackageName_ uses the pytest module to run doctests and unit tests, testing package functionality. \n",
    "\n",
    "_PackageName_ uses TravisCI to ensure continuous integration, building the software and running automated tests whenever new commits are pushed to the repo or a pull request is submitted. \n",
    "\n",
    "_PackageName_ uses CodeCov to measure the degree to which the source code of _PackageName_ is executed when the test suite is run."
   ]
  },
  {
   "cell_type": "markdown",
   "metadata": {
    "colab_type": "text",
    "id": "_NrOlP4ctCFS"
   },
   "source": [
    "**Q: How will you distribute your package (e.g. PyPI)?**\n",
    "\n",
    "The _PackageName_ package will be uploaded to the Python Package Index (PyPI). It can therefore be installed by using pip install as follows:\n",
    "        \t\n",
    "            pip install _PackageName_"
   ]
  },
  {
   "cell_type": "markdown",
   "metadata": {
    "colab_type": "text",
    "id": "IgFzPGEYtCFS"
   },
   "source": [
    "**Q: How will you package your software? Will you use a framework? If so, which one and why? If not, why not?**\n",
    "\n",
    "To allow for deterministic builds of the package without the responsibility for updating versions of sub-dependencies, we will use pipenv. Since the package uses Python only, and uses packages that we expect our typical user to have installed, we will opt not to use conda."
   ]
  },
  {
   "cell_type": "markdown",
   "metadata": {
    "colab_type": "text",
    "id": "Kakk8hzMtCFT"
   },
   "source": [
    "## **Implementation**"
   ]
  },
  {
   "cell_type": "markdown",
   "metadata": {
    "colab_type": "text",
    "id": "-YSpDNImtCFU"
   },
   "source": [
    "**Q: How will you deal with elementary functions?**\n",
    "\n",
    "\n",
    "Elementary functions including (not restricted to):\n",
    "$$ sin(),cos(),tan(),cot(),arctan(),arcsine(),exp(),log(),abs()$$\n",
    "will be implemented as class methods in the Forward Automatic Differentiation (AutoDiff) class illustrated in the pseudocode for the $\\sin$ function:\n",
    "\n",
    "``` python\n",
    "class AutoDiff:\n",
    "  def __init__(val):\n",
    "    self.val = val\n",
    "    self.der = 1\n",
    "  \n",
    "  def sin(self,obj):\n",
    "    if isinstance(obj, AutomaticDiff):\n",
    "      #perform automatic differentation\n",
    "      return (np.sin(obj.val), obj.der*np.cos(obj.val))\n",
    "    else:\n",
    "      raise ValueError\n",
    "      \n",
    "```"
   ]
  },
  {
   "cell_type": "markdown",
   "metadata": {
    "colab_type": "text",
    "id": "bZ8a3C-ttCFU"
   },
   "source": [
    "Notice that these method requires numpy as an extension to manually  calculate their derivatives."
   ]
  },
  {
   "cell_type": "markdown",
   "metadata": {
    "colab_type": "text",
    "id": "S-y1E56AtCFV"
   },
   "source": [
    "**Q: What is your core data structure?**\n",
    "\n",
    "The main data structure we will be using is np.arrays/list/tuples and dictionaries. The users can input values and variable names as a single number, an array , a multidimensional array or a dictionary."
   ]
  },
  {
   "cell_type": "markdown",
   "metadata": {
    "colab_type": "text",
    "id": "v9rqChwTtCFW"
   },
   "source": [
    "**Q: What external dependencies will you rely on ?**\n",
    "\n",
    "For now we would need to import the numpy library to help evaluate derivatives for elementary functions and to build up basic data structures.\n",
    "\n",
    "\n",
    "Also for testing, we will be using pytest."
   ]
  },
  {
   "cell_type": "markdown",
   "metadata": {
    "colab_type": "text",
    "id": "tX5rT3uktCFW"
   },
   "source": [
    "**Q: What classes will you implement ? Names and Attribute?**\n",
    "\n",
    "\n",
    "\n",
    "1) An ***AutoDiff class*** which stores the current value and derivative for the current node. The class method will conatin overloading operators such as plus, minus, multiply etc.\n",
    "\n",
    "```python\n",
    "\"\"\"\n",
    "Initialize an Automatic Differentiation object which stores its current value and derivative\n",
    "\n",
    "Note that the derivative needs to not be a scalar value\n",
    "\n",
    "For multivariable differentiation problem of a scalar function, the derivative will be a vector\n",
    "\"\"\"\n",
    "\n",
    "def __init__(self,value,der=1) :\n",
    "  self.val = val\n",
    "  self.der = der\n",
    "  \n",
    "def check_dimension(self):\n",
    "  \"\"\"\n",
    "  This method will be integrated in other class methods as well to check the dimensions when performing vector computations and catch appropriate errors\n",
    "  \"\"\"\n",
    "\n",
    "#overloading operators to enable basic operations between classes and numbers (not exhaustive):\n",
    "\n",
    "\"\"\"\n",
    "These methods will differentiate cases in which other is a scalar, a vector, a class, or any child class\n",
    "\n",
    "All of the these operator will return AutoDiff classes\n",
    "\"\"\"\n",
    "def __mult__(self,other):\n",
    "def __rmult__(self,other):\n",
    "def __radd__(self,other): \n",
    "def __add__(self,other):\n",
    "  \n",
    "#Elementary Function Derivative (not exhaustive):\n",
    "def exp(self,ADobj):\n",
    "def tan(self,ADobj):\n",
    "def sin(self,ADobj):\n",
    "def cos(self.ADobj):\n",
    "# ...\n",
    "\n",
    "#compute total derivatives if it is a mulivariate function\n",
    "def total_deri(self):\n",
    " \n",
    "# compute Jacobian for vector functions\n",
    "# take paramter\n",
    "def Jacobian(self,func):\n",
    "  \"\"\"\n",
    "  func-- an multidimensional array of AutoDiff Object\n",
    "  \"\"\"\n",
    "\n",
    "#For univairate functions\n",
    "X = AutoDiff(3)\n",
    "\n",
    "func = 3*X + 2\n",
    "\n",
    "\n",
    "# For multivariate function using just AutoDiff Class\n",
    "\n",
    "X = AutoDiff(1,[1,0,0])\n",
    "Y =  AutoDiff(1,[0,1,0])\n",
    "Z =  AutoDiff(1,[0,0,1])\n",
    "\n",
    "func = X + 2*Y + Z\n",
    "\n",
    "\"\"\"\n",
    "There will be no need to define separate class for vector auto differentiation object \n",
    "since it can be easily inititated as following for example:\n",
    "\"\"\"\n",
    "# For matrix operations and vector functions \n",
    "X = AutoDiff(1,[1,0,0])\n",
    "Y =  AutoDiff(1,[0,1,0])\n",
    "a = np.array([[1,2],\n",
    "\t [3,4]])\n",
    "W = np.array([X,Y]).T\n",
    "F = np.dot(a,W)\n",
    "\n",
    "# This is the Jacobian of the vector functions (which is all the derivatives)\n",
    "Jacobian = np.array([F[0].der,F[1].der])\n",
    "\n",
    "'''\n",
    "The operations will be valid for matrixes since matrix operations are just linear combinations \n",
    "of basic operaions +,-,x,/\n",
    "\n",
    "'''\n",
    "```\n",
    "\n",
    "2) A ***Multi_AutoDiff_Creator class*** which helps the user create variable objects from a multivariable function\n",
    "\n",
    "```python\n",
    "\n",
    "\"\"\"\n",
    "This class helps user initialize different variables from a multivariable function without explicitly specifying them respectively using AutoDiff class\n",
    "\n",
    "It will need to import AutoDiff Class\n",
    "\"\"\"\n",
    "\tdef __init__(self,*args,**kwargs):\n",
    "\t\tderi = np.identity(len(kwargs))\n",
    "\t\ti = 0 \n",
    "\t\tself.Vars =[]\n",
    "\t\tfor key, value in kwargs.items():\n",
    "\t\t\tself.List.append(AutoDiff(value,deri[i]))\n",
    "\t\t\ti+=1\n",
    "\n",
    "#Demo and comparison\n",
    "\n",
    "'''initiate a multivariable function using Multi_AutoDiff_Creator class'''\n",
    "X,Y= Multi_AutoDiff_Creator(X = 1., Y=3.).Vars\n",
    "func = X + 2*Y*X \n",
    "```\n",
    "\n",
    "3) An ***Advanced Feature Class*** which implement more advanced derivatives (such as the Hessian/ Backward propagation) which inherits the AD\n",
    "\n",
    "\n",
    "4) A ***Test*** class which tests existing module functionalities\n",
    "\n",
    "\n",
    "\n"
   ]
  },
  {
   "cell_type": "markdown",
   "metadata": {
    "colab_type": "text",
    "id": "l2JmAQLutCFX"
   },
   "source": [
    "## **References**"
   ]
  }
 ],
 "metadata": {
  "colab": {
   "collapsed_sections": [],
   "name": "milestone1.ipynb",
   "provenance": []
  },
  "kernelspec": {
   "display_name": "Python 3",
   "language": "python",
   "name": "python3"
  },
  "language_info": {
   "codemirror_mode": {
    "name": "ipython",
    "version": 3
   },
   "file_extension": ".py",
   "mimetype": "text/x-python",
   "name": "python",
   "nbconvert_exporter": "python",
   "pygments_lexer": "ipython3",
   "version": "3.7.4"
  }
 },
 "nbformat": 4,
 "nbformat_minor": 1
}
